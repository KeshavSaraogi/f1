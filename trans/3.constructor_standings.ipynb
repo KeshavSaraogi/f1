{
 "cells": [
  {
   "cell_type": "code",
   "execution_count": 0,
   "metadata": {
    "application/vnd.databricks.v1+cell": {
     "cellMetadata": {
      "byteLimit": 2048000,
      "rowLimit": 10000
     },
     "inputWidgets": {},
     "nuid": "1043a15e-ebda-4c01-901f-8d6528ec838c",
     "showTitle": false,
     "title": ""
    }
   },
   "outputs": [],
   "source": [
    "%run \"../includes/configuration\""
   ]
  },
  {
   "cell_type": "code",
   "execution_count": 0,
   "metadata": {
    "application/vnd.databricks.v1+cell": {
     "cellMetadata": {
      "byteLimit": 2048000,
      "rowLimit": 10000
     },
     "inputWidgets": {},
     "nuid": "42613cef-df4b-4471-9667-b339de8f6137",
     "showTitle": false,
     "title": ""
    }
   },
   "outputs": [],
   "source": [
    "%run \"../includes/common_functions\""
   ]
  },
  {
   "cell_type": "code",
   "execution_count": 0,
   "metadata": {
    "application/vnd.databricks.v1+cell": {
     "cellMetadata": {
      "byteLimit": 2048000,
      "rowLimit": 10000
     },
     "inputWidgets": {},
     "nuid": "636c7cf3-7db3-4305-9c67-a1990e2ba976",
     "showTitle": false,
     "title": ""
    }
   },
   "outputs": [],
   "source": [
    "race_results_df = spark.read.parquet(f\"{presentation_folder_path}/race_results\")"
   ]
  },
  {
   "cell_type": "code",
   "execution_count": 0,
   "metadata": {
    "application/vnd.databricks.v1+cell": {
     "cellMetadata": {
      "byteLimit": 2048000,
      "rowLimit": 10000
     },
     "inputWidgets": {},
     "nuid": "75b00401-c5d5-4c36-867f-3cdf49f0e9eb",
     "showTitle": false,
     "title": ""
    }
   },
   "outputs": [],
   "source": [
    "from pyspark.sql.functions import col, sum, when, count\n",
    "\n",
    "constructor_standings_df = race_results_df \\\n",
    ".groupBy(\"race_year\", \"team\") \\\n",
    ".agg(sum(\"points\").alias(\"total_points\"),\n",
    "    count(when(col(\"position\") == 1, True)).alias(\"wins\"))"
   ]
  },
  {
   "cell_type": "code",
   "execution_count": 0,
   "metadata": {
    "application/vnd.databricks.v1+cell": {
     "cellMetadata": {
      "byteLimit": 2048000,
      "rowLimit": 10000
     },
     "inputWidgets": {},
     "nuid": "ef217919-69b6-426a-89de-17e81201b695",
     "showTitle": false,
     "title": ""
    }
   },
   "outputs": [
    {
     "output_type": "display_data",
     "data": {
      "text/html": [
       "<style scoped>\n",
       "  .table-result-container {\n",
       "    max-height: 300px;\n",
       "    overflow: auto;\n",
       "  }\n",
       "  table, th, td {\n",
       "    border: 1px solid black;\n",
       "    border-collapse: collapse;\n",
       "  }\n",
       "  th, td {\n",
       "    padding: 5px;\n",
       "  }\n",
       "  th {\n",
       "    text-align: left;\n",
       "  }\n",
       "</style><div class='table-result-container'><table class='table-result'><thead style='background-color: white'><tr><th>race_year</th><th>team</th><th>total_points</th><th>wins</th></tr></thead><tbody><tr><td>2020</td><td>Haas F1 Team</td><td>3.0</td><td>0</td></tr><tr><td>2020</td><td>McLaren</td><td>202.0</td><td>0</td></tr><tr><td>2020</td><td>Ferrari</td><td>131.0</td><td>0</td></tr><tr><td>2020</td><td>Mercedes</td><td>573.0</td><td>13</td></tr><tr><td>2020</td><td>AlphaTauri</td><td>107.0</td><td>1</td></tr><tr><td>2020</td><td>Williams</td><td>0.0</td><td>0</td></tr><tr><td>2020</td><td>Red Bull</td><td>319.0</td><td>2</td></tr><tr><td>2020</td><td>Alfa Romeo</td><td>8.0</td><td>0</td></tr><tr><td>2020</td><td>Racing Point</td><td>210.0</td><td>1</td></tr><tr><td>2020</td><td>Renault</td><td>181.0</td><td>0</td></tr></tbody></table></div>"
      ]
     },
     "metadata": {
      "application/vnd.databricks.v1+output": {
       "addedWidgets": {},
       "aggData": [],
       "aggError": "",
       "aggOverflow": false,
       "aggSchema": [],
       "aggSeriesLimitReached": false,
       "aggType": "",
       "arguments": {},
       "columnCustomDisplayInfos": {},
       "data": [
        [
         2020,
         "Haas F1 Team",
         3.0,
         0
        ],
        [
         2020,
         "McLaren",
         202.0,
         0
        ],
        [
         2020,
         "Ferrari",
         131.0,
         0
        ],
        [
         2020,
         "Mercedes",
         573.0,
         13
        ],
        [
         2020,
         "AlphaTauri",
         107.0,
         1
        ],
        [
         2020,
         "Williams",
         0.0,
         0
        ],
        [
         2020,
         "Red Bull",
         319.0,
         2
        ],
        [
         2020,
         "Alfa Romeo",
         8.0,
         0
        ],
        [
         2020,
         "Racing Point",
         210.0,
         1
        ],
        [
         2020,
         "Renault",
         181.0,
         0
        ]
       ],
       "datasetInfos": [],
       "dbfsResultPath": null,
       "isJsonSchema": true,
       "metadata": {},
       "overflow": false,
       "plotOptions": {
        "customPlotOptions": {},
        "displayType": "table",
        "pivotAggregation": null,
        "pivotColumns": null,
        "xColumns": null,
        "yColumns": null
       },
       "removedWidgets": [],
       "schema": [
        {
         "metadata": "{}",
         "name": "race_year",
         "type": "\"integer\""
        },
        {
         "metadata": "{}",
         "name": "team",
         "type": "\"string\""
        },
        {
         "metadata": "{}",
         "name": "total_points",
         "type": "\"double\""
        },
        {
         "metadata": "{}",
         "name": "wins",
         "type": "\"long\""
        }
       ],
       "type": "table"
      }
     },
     "output_type": "display_data"
    }
   ],
   "source": [
    "display(constructor_standings_df.filter(\"race_year = 2020\"))"
   ]
  },
  {
   "cell_type": "code",
   "execution_count": 0,
   "metadata": {
    "application/vnd.databricks.v1+cell": {
     "cellMetadata": {
      "byteLimit": 2048000,
      "rowLimit": 10000
     },
     "inputWidgets": {},
     "nuid": "4ed4135d-9dcb-4f7e-835a-a55591968924",
     "showTitle": false,
     "title": ""
    }
   },
   "outputs": [],
   "source": [
    "from pyspark.sql.window import Window\n",
    "from pyspark.sql.functions import desc, rank, asc\n",
    "\n",
    "constructor_rank_spec = Window.partitionBy(\"race_year\").orderBy(desc(\"total_points\"), desc(\"wins\"))\n",
    "final_df = constructor_standings_df.withColumn(\"rank\", rank().over(constructor_rank_spec))"
   ]
  },
  {
   "cell_type": "code",
   "execution_count": 0,
   "metadata": {
    "application/vnd.databricks.v1+cell": {
     "cellMetadata": {
      "byteLimit": 2048000,
      "rowLimit": 10000
     },
     "inputWidgets": {},
     "nuid": "0d79c062-f25f-46da-8a39-71af3b9c9731",
     "showTitle": false,
     "title": ""
    }
   },
   "outputs": [
    {
     "output_type": "display_data",
     "data": {
      "text/html": [
       "<style scoped>\n",
       "  .table-result-container {\n",
       "    max-height: 300px;\n",
       "    overflow: auto;\n",
       "  }\n",
       "  table, th, td {\n",
       "    border: 1px solid black;\n",
       "    border-collapse: collapse;\n",
       "  }\n",
       "  th, td {\n",
       "    padding: 5px;\n",
       "  }\n",
       "  th {\n",
       "    text-align: left;\n",
       "  }\n",
       "</style><div class='table-result-container'><table class='table-result'><thead style='background-color: white'><tr><th>race_year</th><th>team</th><th>total_points</th><th>wins</th><th>rank</th></tr></thead><tbody><tr><td>2020</td><td>Mercedes</td><td>573.0</td><td>13</td><td>1</td></tr><tr><td>2020</td><td>Red Bull</td><td>319.0</td><td>2</td><td>2</td></tr><tr><td>2020</td><td>Racing Point</td><td>210.0</td><td>1</td><td>3</td></tr><tr><td>2020</td><td>McLaren</td><td>202.0</td><td>0</td><td>4</td></tr><tr><td>2020</td><td>Renault</td><td>181.0</td><td>0</td><td>5</td></tr><tr><td>2020</td><td>Ferrari</td><td>131.0</td><td>0</td><td>6</td></tr><tr><td>2020</td><td>AlphaTauri</td><td>107.0</td><td>1</td><td>7</td></tr><tr><td>2020</td><td>Alfa Romeo</td><td>8.0</td><td>0</td><td>8</td></tr><tr><td>2020</td><td>Haas F1 Team</td><td>3.0</td><td>0</td><td>9</td></tr><tr><td>2020</td><td>Williams</td><td>0.0</td><td>0</td><td>10</td></tr></tbody></table></div>"
      ]
     },
     "metadata": {
      "application/vnd.databricks.v1+output": {
       "addedWidgets": {},
       "aggData": [],
       "aggError": "",
       "aggOverflow": false,
       "aggSchema": [],
       "aggSeriesLimitReached": false,
       "aggType": "",
       "arguments": {},
       "columnCustomDisplayInfos": {},
       "data": [
        [
         2020,
         "Mercedes",
         573.0,
         13,
         1
        ],
        [
         2020,
         "Red Bull",
         319.0,
         2,
         2
        ],
        [
         2020,
         "Racing Point",
         210.0,
         1,
         3
        ],
        [
         2020,
         "McLaren",
         202.0,
         0,
         4
        ],
        [
         2020,
         "Renault",
         181.0,
         0,
         5
        ],
        [
         2020,
         "Ferrari",
         131.0,
         0,
         6
        ],
        [
         2020,
         "AlphaTauri",
         107.0,
         1,
         7
        ],
        [
         2020,
         "Alfa Romeo",
         8.0,
         0,
         8
        ],
        [
         2020,
         "Haas F1 Team",
         3.0,
         0,
         9
        ],
        [
         2020,
         "Williams",
         0.0,
         0,
         10
        ]
       ],
       "datasetInfos": [],
       "dbfsResultPath": null,
       "isJsonSchema": true,
       "metadata": {},
       "overflow": false,
       "plotOptions": {
        "customPlotOptions": {},
        "displayType": "table",
        "pivotAggregation": null,
        "pivotColumns": null,
        "xColumns": null,
        "yColumns": null
       },
       "removedWidgets": [],
       "schema": [
        {
         "metadata": "{}",
         "name": "race_year",
         "type": "\"integer\""
        },
        {
         "metadata": "{}",
         "name": "team",
         "type": "\"string\""
        },
        {
         "metadata": "{}",
         "name": "total_points",
         "type": "\"double\""
        },
        {
         "metadata": "{}",
         "name": "wins",
         "type": "\"long\""
        },
        {
         "metadata": "{}",
         "name": "rank",
         "type": "\"integer\""
        }
       ],
       "type": "table"
      }
     },
     "output_type": "display_data"
    }
   ],
   "source": [
    "display(final_df.filter(\"race_year = 2020\"))"
   ]
  },
  {
   "cell_type": "code",
   "execution_count": 0,
   "metadata": {
    "application/vnd.databricks.v1+cell": {
     "cellMetadata": {
      "byteLimit": 2048000,
      "rowLimit": 10000
     },
     "inputWidgets": {},
     "nuid": "aaaeadce-4dee-40b8-89e3-b5bebec67a3f",
     "showTitle": false,
     "title": ""
    }
   },
   "outputs": [],
   "source": [
    "final_df.write.mode(\"overwrite\").parquet(f\"{presentation_folder_path}/constructor_standings\")"
   ]
  }
 ],
 "metadata": {
  "application/vnd.databricks.v1+notebook": {
   "dashboards": [],
   "environmentMetadata": null,
   "language": "python",
   "notebookMetadata": {
    "pythonIndentUnit": 4
   },
   "notebookName": "3.constructor_standings",
   "widgets": {}
  }
 },
 "nbformat": 4,
 "nbformat_minor": 0
}
