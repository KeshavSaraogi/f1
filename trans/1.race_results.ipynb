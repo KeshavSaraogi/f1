{
 "cells": [
  {
   "cell_type": "code",
   "execution_count": 0,
   "metadata": {
    "application/vnd.databricks.v1+cell": {
     "cellMetadata": {
      "byteLimit": 2048000,
      "rowLimit": 10000
     },
     "inputWidgets": {},
     "nuid": "eceee10b-5d40-44a6-9a30-63b0138e16d5",
     "showTitle": false,
     "title": ""
    }
   },
   "outputs": [],
   "source": [
    "%run \"../includes/configuration\""
   ]
  },
  {
   "cell_type": "code",
   "execution_count": 0,
   "metadata": {
    "application/vnd.databricks.v1+cell": {
     "cellMetadata": {
      "byteLimit": 2048000,
      "rowLimit": 10000
     },
     "inputWidgets": {},
     "nuid": "5658f87c-d9b9-44c4-88ff-30bc3785c48a",
     "showTitle": false,
     "title": ""
    }
   },
   "outputs": [],
   "source": [
    "%run \"../includes/common_functions\""
   ]
  },
  {
   "cell_type": "code",
   "execution_count": 0,
   "metadata": {
    "application/vnd.databricks.v1+cell": {
     "cellMetadata": {
      "byteLimit": 2048000,
      "rowLimit": 10000
     },
     "inputWidgets": {},
     "nuid": "13a745dd-7567-499c-a605-97ddbf03b539",
     "showTitle": false,
     "title": ""
    }
   },
   "outputs": [],
   "source": [
    "drivers_df = spark.read.parquet(f\"{processed_folder_path}/drivers\") \\\n",
    ".withColumnRenamed('number', 'driver_number') \\\n",
    ".withColumnRenamed('name', 'driver_name') \\\n",
    ".withColumnRenamed('nationality', 'driver_nationality')"
   ]
  },
  {
   "cell_type": "code",
   "execution_count": 0,
   "metadata": {
    "application/vnd.databricks.v1+cell": {
     "cellMetadata": {
      "byteLimit": 2048000,
      "rowLimit": 10000
     },
     "inputWidgets": {},
     "nuid": "056665ff-7d7b-4d3e-bf59-0062868a6a6d",
     "showTitle": false,
     "title": ""
    }
   },
   "outputs": [],
   "source": [
    "constructors_df = spark.read.parquet(f\"{processed_folder_path}/constructors\") \\\n",
    ".withColumnRenamed('name', 'team')"
   ]
  },
  {
   "cell_type": "code",
   "execution_count": 0,
   "metadata": {
    "application/vnd.databricks.v1+cell": {
     "cellMetadata": {
      "byteLimit": 2048000,
      "rowLimit": 10000
     },
     "inputWidgets": {},
     "nuid": "cb71110d-74ad-4875-ae42-cc3d197285d0",
     "showTitle": false,
     "title": ""
    }
   },
   "outputs": [],
   "source": [
    "circuits_df = spark.read.parquet(f\"{processed_folder_path}/circuits\") \\\n",
    ".withColumnRenamed('location', 'circuit_location')\n"
   ]
  },
  {
   "cell_type": "code",
   "execution_count": 0,
   "metadata": {
    "application/vnd.databricks.v1+cell": {
     "cellMetadata": {
      "byteLimit": 2048000,
      "rowLimit": 10000
     },
     "inputWidgets": {},
     "nuid": "de918076-3ec8-4626-b221-86ebf29e3257",
     "showTitle": false,
     "title": ""
    }
   },
   "outputs": [],
   "source": [
    "races_df = spark.read.parquet(f\"{processed_folder_path}/races\") \\\n",
    ".withColumnRenamed('name', 'race_name') \\\n",
    ".withColumnRenamed('race_timestamp', 'race_date')"
   ]
  },
  {
   "cell_type": "code",
   "execution_count": 0,
   "metadata": {
    "application/vnd.databricks.v1+cell": {
     "cellMetadata": {
      "byteLimit": 2048000,
      "rowLimit": 10000
     },
     "inputWidgets": {},
     "nuid": "cce1dce0-2a52-4f61-ad95-3dd895bac17a",
     "showTitle": false,
     "title": ""
    }
   },
   "outputs": [],
   "source": [
    "results_df = spark.read.parquet(f\"{processed_folder_path}/results\") \\\n",
    ".withColumnRenamed('time', 'race_time')"
   ]
  },
  {
   "cell_type": "code",
   "execution_count": 0,
   "metadata": {
    "application/vnd.databricks.v1+cell": {
     "cellMetadata": {
      "byteLimit": 2048000,
      "rowLimit": 10000
     },
     "inputWidgets": {},
     "nuid": "b4e3746e-e67a-43df-a0f4-f0b1e344cdac",
     "showTitle": false,
     "title": ""
    }
   },
   "outputs": [],
   "source": [
    "race_circuits_df = races_df.join(circuits_df, races_df.circuit_id == circuits_df.circuit_id, \"inner\") \\\n",
    ".select(races_df.race_id, races_df.race_year, races_df.race_name, races_df.race_date, circuits_df.circuit_location)"
   ]
  },
  {
   "cell_type": "code",
   "execution_count": 0,
   "metadata": {
    "application/vnd.databricks.v1+cell": {
     "cellMetadata": {
      "byteLimit": 2048000,
      "rowLimit": 10000
     },
     "inputWidgets": {},
     "nuid": "ec3e0d64-40e9-4c3e-b852-7f7a250356ca",
     "showTitle": false,
     "title": ""
    }
   },
   "outputs": [],
   "source": [
    "race_results_df = results_df.join(race_circuits_df, results_df.race_id == race_circuits_df.race_id) \\\n",
    "                            .join(drivers_df, results_df.driver_id == drivers_df.driver_id) \\\n",
    "                            .join(constructors_df, results_df.constructor_id == constructors_df.constructor_id)"
   ]
  },
  {
   "cell_type": "code",
   "execution_count": 0,
   "metadata": {
    "application/vnd.databricks.v1+cell": {
     "cellMetadata": {
      "byteLimit": 2048000,
      "rowLimit": 10000
     },
     "inputWidgets": {},
     "nuid": "85ab3144-9870-49bd-b726-d9c1ee59e1f5",
     "showTitle": false,
     "title": ""
    }
   },
   "outputs": [],
   "source": [
    "from pyspark.sql.functions import current_timestamp"
   ]
  },
  {
   "cell_type": "code",
   "execution_count": 0,
   "metadata": {
    "application/vnd.databricks.v1+cell": {
     "cellMetadata": {
      "byteLimit": 2048000,
      "rowLimit": 10000
     },
     "inputWidgets": {},
     "nuid": "6864d05a-39ac-44c5-b02d-8f2fe55dc1db",
     "showTitle": false,
     "title": ""
    }
   },
   "outputs": [],
   "source": [
    "final_df = race_results_df.select(\"race_year\", \"race_name\", \"race_date\", \"circuit_location\", \"driver_name\", \"driver_number\", \"driver_nationality\",\n",
    "                                 \"team\", \"grid\", \"fastest_lap\", \"race_time\", \"points\", \"position\") \\\n",
    "                          .withColumn(\"created_date\", current_timestamp())"
   ]
  },
  {
   "cell_type": "code",
   "execution_count": 0,
   "metadata": {
    "application/vnd.databricks.v1+cell": {
     "cellMetadata": {
      "byteLimit": 2048000,
      "rowLimit": 10000
     },
     "inputWidgets": {},
     "nuid": "bde6ab53-0b17-4389-b6c3-482e9502186c",
     "showTitle": false,
     "title": ""
    }
   },
   "outputs": [
    {
     "output_type": "display_data",
     "data": {
      "text/html": [
       "<style scoped>\n",
       "  .table-result-container {\n",
       "    max-height: 300px;\n",
       "    overflow: auto;\n",
       "  }\n",
       "  table, th, td {\n",
       "    border: 1px solid black;\n",
       "    border-collapse: collapse;\n",
       "  }\n",
       "  th, td {\n",
       "    padding: 5px;\n",
       "  }\n",
       "  th {\n",
       "    text-align: left;\n",
       "  }\n",
       "</style><div class='table-result-container'><table class='table-result'><thead style='background-color: white'><tr><th>race_year</th><th>race_name</th><th>race_date</th><th>circuit_location</th><th>driver_name</th><th>driver_number</th><th>driver_nationality</th><th>team</th><th>grid</th><th>fastest_lap</th><th>race_time</th><th>points</th><th>position</th><th>created_date</th></tr></thead><tbody><tr><td>2020</td><td>Abu Dhabi Grand Prix</td><td>2020-12-13T13:10:00.000+0000</td><td>Abu Dhabi</td><td>Max Verstappen</td><td>33</td><td>Dutch</td><td>Red Bull</td><td>1</td><td>14</td><td>1:36:28.645</td><td>25.0</td><td>1</td><td>2024-08-08T13:13:01.947+0000</td></tr><tr><td>2020</td><td>Abu Dhabi Grand Prix</td><td>2020-12-13T13:10:00.000+0000</td><td>Abu Dhabi</td><td>Valtteri Bottas</td><td>77</td><td>Finnish</td><td>Mercedes</td><td>2</td><td>40</td><td>+15.976</td><td>18.0</td><td>2</td><td>2024-08-08T13:13:01.947+0000</td></tr><tr><td>2020</td><td>Abu Dhabi Grand Prix</td><td>2020-12-13T13:10:00.000+0000</td><td>Abu Dhabi</td><td>Lewis Hamilton</td><td>44</td><td>British</td><td>Mercedes</td><td>3</td><td>37</td><td>+18.415</td><td>15.0</td><td>3</td><td>2024-08-08T13:13:01.947+0000</td></tr><tr><td>2020</td><td>Abu Dhabi Grand Prix</td><td>2020-12-13T13:10:00.000+0000</td><td>Abu Dhabi</td><td>Alexander Albon</td><td>23</td><td>Thai</td><td>Red Bull</td><td>5</td><td>42</td><td>+19.987</td><td>12.0</td><td>4</td><td>2024-08-08T13:13:01.947+0000</td></tr><tr><td>2020</td><td>Abu Dhabi Grand Prix</td><td>2020-12-13T13:10:00.000+0000</td><td>Abu Dhabi</td><td>Lando Norris</td><td>4</td><td>British</td><td>McLaren</td><td>4</td><td>53</td><td>+1:00.729</td><td>10.0</td><td>5</td><td>2024-08-08T13:13:01.947+0000</td></tr><tr><td>2020</td><td>Abu Dhabi Grand Prix</td><td>2020-12-13T13:10:00.000+0000</td><td>Abu Dhabi</td><td>Carlos Sainz</td><td>55</td><td>Spanish</td><td>McLaren</td><td>6</td><td>48</td><td>+1:05.662</td><td>8.0</td><td>6</td><td>2024-08-08T13:13:01.947+0000</td></tr><tr><td>2020</td><td>Abu Dhabi Grand Prix</td><td>2020-12-13T13:10:00.000+0000</td><td>Abu Dhabi</td><td>Daniel Ricciardo</td><td>3</td><td>Australian</td><td>Renault</td><td>11</td><td>55</td><td>+1:13.748</td><td>7.0</td><td>7</td><td>2024-08-08T13:13:01.947+0000</td></tr><tr><td>2020</td><td>Abu Dhabi Grand Prix</td><td>2020-12-13T13:10:00.000+0000</td><td>Abu Dhabi</td><td>Pierre Gasly</td><td>10</td><td>French</td><td>AlphaTauri</td><td>9</td><td>53</td><td>+1:29.718</td><td>4.0</td><td>8</td><td>2024-08-08T13:13:01.947+0000</td></tr><tr><td>2020</td><td>Abu Dhabi Grand Prix</td><td>2020-12-13T13:10:00.000+0000</td><td>Abu Dhabi</td><td>Esteban Ocon</td><td>31</td><td>French</td><td>Renault</td><td>10</td><td>47</td><td>+1:41.069</td><td>2.0</td><td>9</td><td>2024-08-08T13:13:01.947+0000</td></tr><tr><td>2020</td><td>Abu Dhabi Grand Prix</td><td>2020-12-13T13:10:00.000+0000</td><td>Abu Dhabi</td><td>Lance Stroll</td><td>18</td><td>Canadian</td><td>Racing Point</td><td>8</td><td>41</td><td>+1:42.738</td><td>1.0</td><td>10</td><td>2024-08-08T13:13:01.947+0000</td></tr><tr><td>2020</td><td>Abu Dhabi Grand Prix</td><td>2020-12-13T13:10:00.000+0000</td><td>Abu Dhabi</td><td>Sergio Pérez</td><td>11</td><td>Mexican</td><td>Racing Point</td><td>19</td><td>6</td><td>\\N</td><td>0.0</td><td>null</td><td>2024-08-08T13:13:01.947+0000</td></tr><tr><td>2020</td><td>Abu Dhabi Grand Prix</td><td>2020-12-13T13:10:00.000+0000</td><td>Abu Dhabi</td><td>Pietro Fittipaldi</td><td>51</td><td>Brazilian</td><td>Haas F1 Team</td><td>17</td><td>50</td><td>\\N</td><td>0.0</td><td>19</td><td>2024-08-08T13:13:01.947+0000</td></tr><tr><td>2020</td><td>Abu Dhabi Grand Prix</td><td>2020-12-13T13:10:00.000+0000</td><td>Abu Dhabi</td><td>Kevin Magnussen</td><td>20</td><td>Danish</td><td>Haas F1 Team</td><td>20</td><td>50</td><td>\\N</td><td>0.0</td><td>18</td><td>2024-08-08T13:13:01.947+0000</td></tr><tr><td>2020</td><td>Abu Dhabi Grand Prix</td><td>2020-12-13T13:10:00.000+0000</td><td>Abu Dhabi</td><td>Nicholas Latifi</td><td>6</td><td>Canadian</td><td>Williams</td><td>18</td><td>49</td><td>\\N</td><td>0.0</td><td>17</td><td>2024-08-08T13:13:01.947+0000</td></tr><tr><td>2020</td><td>Abu Dhabi Grand Prix</td><td>2020-12-13T13:10:00.000+0000</td><td>Abu Dhabi</td><td>Antonio Giovinazzi</td><td>99</td><td>Italian</td><td>Alfa Romeo</td><td>14</td><td>29</td><td>\\N</td><td>0.0</td><td>16</td><td>2024-08-08T13:13:01.947+0000</td></tr><tr><td>2020</td><td>Abu Dhabi Grand Prix</td><td>2020-12-13T13:10:00.000+0000</td><td>Abu Dhabi</td><td>George Russell</td><td>63</td><td>British</td><td>Williams</td><td>16</td><td>54</td><td>\\N</td><td>0.0</td><td>15</td><td>2024-08-08T13:13:01.947+0000</td></tr><tr><td>2020</td><td>Abu Dhabi Grand Prix</td><td>2020-12-13T13:10:00.000+0000</td><td>Abu Dhabi</td><td>Sebastian Vettel</td><td>5</td><td>German</td><td>Ferrari</td><td>13</td><td>37</td><td>\\N</td><td>0.0</td><td>14</td><td>2024-08-08T13:13:01.947+0000</td></tr><tr><td>2020</td><td>Abu Dhabi Grand Prix</td><td>2020-12-13T13:10:00.000+0000</td><td>Abu Dhabi</td><td>Charles Leclerc</td><td>16</td><td>Monegasque</td><td>Ferrari</td><td>12</td><td>24</td><td>\\N</td><td>0.0</td><td>13</td><td>2024-08-08T13:13:01.947+0000</td></tr><tr><td>2020</td><td>Abu Dhabi Grand Prix</td><td>2020-12-13T13:10:00.000+0000</td><td>Abu Dhabi</td><td>Kimi Räikkönen</td><td>7</td><td>Finnish</td><td>Alfa Romeo</td><td>15</td><td>53</td><td>\\N</td><td>0.0</td><td>12</td><td>2024-08-08T13:13:01.947+0000</td></tr><tr><td>2020</td><td>Abu Dhabi Grand Prix</td><td>2020-12-13T13:10:00.000+0000</td><td>Abu Dhabi</td><td>Daniil Kvyat</td><td>26</td><td>Russian</td><td>AlphaTauri</td><td>7</td><td>47</td><td>\\N</td><td>0.0</td><td>11</td><td>2024-08-08T13:13:01.947+0000</td></tr></tbody></table></div>"
      ]
     },
     "metadata": {
      "application/vnd.databricks.v1+output": {
       "addedWidgets": {},
       "aggData": [],
       "aggError": "",
       "aggOverflow": false,
       "aggSchema": [],
       "aggSeriesLimitReached": false,
       "aggType": "",
       "arguments": {},
       "columnCustomDisplayInfos": {},
       "data": [
        [
         2020,
         "Abu Dhabi Grand Prix",
         "2020-12-13T13:10:00.000+0000",
         "Abu Dhabi",
         "Max Verstappen",
         33,
         "Dutch",
         "Red Bull",
         1,
         14,
         "1:36:28.645",
         25.0,
         1,
         "2024-08-08T13:13:01.947+0000"
        ],
        [
         2020,
         "Abu Dhabi Grand Prix",
         "2020-12-13T13:10:00.000+0000",
         "Abu Dhabi",
         "Valtteri Bottas",
         77,
         "Finnish",
         "Mercedes",
         2,
         40,
         "+15.976",
         18.0,
         2,
         "2024-08-08T13:13:01.947+0000"
        ],
        [
         2020,
         "Abu Dhabi Grand Prix",
         "2020-12-13T13:10:00.000+0000",
         "Abu Dhabi",
         "Lewis Hamilton",
         44,
         "British",
         "Mercedes",
         3,
         37,
         "+18.415",
         15.0,
         3,
         "2024-08-08T13:13:01.947+0000"
        ],
        [
         2020,
         "Abu Dhabi Grand Prix",
         "2020-12-13T13:10:00.000+0000",
         "Abu Dhabi",
         "Alexander Albon",
         23,
         "Thai",
         "Red Bull",
         5,
         42,
         "+19.987",
         12.0,
         4,
         "2024-08-08T13:13:01.947+0000"
        ],
        [
         2020,
         "Abu Dhabi Grand Prix",
         "2020-12-13T13:10:00.000+0000",
         "Abu Dhabi",
         "Lando Norris",
         4,
         "British",
         "McLaren",
         4,
         53,
         "+1:00.729",
         10.0,
         5,
         "2024-08-08T13:13:01.947+0000"
        ],
        [
         2020,
         "Abu Dhabi Grand Prix",
         "2020-12-13T13:10:00.000+0000",
         "Abu Dhabi",
         "Carlos Sainz",
         55,
         "Spanish",
         "McLaren",
         6,
         48,
         "+1:05.662",
         8.0,
         6,
         "2024-08-08T13:13:01.947+0000"
        ],
        [
         2020,
         "Abu Dhabi Grand Prix",
         "2020-12-13T13:10:00.000+0000",
         "Abu Dhabi",
         "Daniel Ricciardo",
         3,
         "Australian",
         "Renault",
         11,
         55,
         "+1:13.748",
         7.0,
         7,
         "2024-08-08T13:13:01.947+0000"
        ],
        [
         2020,
         "Abu Dhabi Grand Prix",
         "2020-12-13T13:10:00.000+0000",
         "Abu Dhabi",
         "Pierre Gasly",
         10,
         "French",
         "AlphaTauri",
         9,
         53,
         "+1:29.718",
         4.0,
         8,
         "2024-08-08T13:13:01.947+0000"
        ],
        [
         2020,
         "Abu Dhabi Grand Prix",
         "2020-12-13T13:10:00.000+0000",
         "Abu Dhabi",
         "Esteban Ocon",
         31,
         "French",
         "Renault",
         10,
         47,
         "+1:41.069",
         2.0,
         9,
         "2024-08-08T13:13:01.947+0000"
        ],
        [
         2020,
         "Abu Dhabi Grand Prix",
         "2020-12-13T13:10:00.000+0000",
         "Abu Dhabi",
         "Lance Stroll",
         18,
         "Canadian",
         "Racing Point",
         8,
         41,
         "+1:42.738",
         1.0,
         10,
         "2024-08-08T13:13:01.947+0000"
        ],
        [
         2020,
         "Abu Dhabi Grand Prix",
         "2020-12-13T13:10:00.000+0000",
         "Abu Dhabi",
         "Sergio Pérez",
         11,
         "Mexican",
         "Racing Point",
         19,
         6,
         "\\N",
         0.0,
         null,
         "2024-08-08T13:13:01.947+0000"
        ],
        [
         2020,
         "Abu Dhabi Grand Prix",
         "2020-12-13T13:10:00.000+0000",
         "Abu Dhabi",
         "Pietro Fittipaldi",
         51,
         "Brazilian",
         "Haas F1 Team",
         17,
         50,
         "\\N",
         0.0,
         19,
         "2024-08-08T13:13:01.947+0000"
        ],
        [
         2020,
         "Abu Dhabi Grand Prix",
         "2020-12-13T13:10:00.000+0000",
         "Abu Dhabi",
         "Kevin Magnussen",
         20,
         "Danish",
         "Haas F1 Team",
         20,
         50,
         "\\N",
         0.0,
         18,
         "2024-08-08T13:13:01.947+0000"
        ],
        [
         2020,
         "Abu Dhabi Grand Prix",
         "2020-12-13T13:10:00.000+0000",
         "Abu Dhabi",
         "Nicholas Latifi",
         6,
         "Canadian",
         "Williams",
         18,
         49,
         "\\N",
         0.0,
         17,
         "2024-08-08T13:13:01.947+0000"
        ],
        [
         2020,
         "Abu Dhabi Grand Prix",
         "2020-12-13T13:10:00.000+0000",
         "Abu Dhabi",
         "Antonio Giovinazzi",
         99,
         "Italian",
         "Alfa Romeo",
         14,
         29,
         "\\N",
         0.0,
         16,
         "2024-08-08T13:13:01.947+0000"
        ],
        [
         2020,
         "Abu Dhabi Grand Prix",
         "2020-12-13T13:10:00.000+0000",
         "Abu Dhabi",
         "George Russell",
         63,
         "British",
         "Williams",
         16,
         54,
         "\\N",
         0.0,
         15,
         "2024-08-08T13:13:01.947+0000"
        ],
        [
         2020,
         "Abu Dhabi Grand Prix",
         "2020-12-13T13:10:00.000+0000",
         "Abu Dhabi",
         "Sebastian Vettel",
         5,
         "German",
         "Ferrari",
         13,
         37,
         "\\N",
         0.0,
         14,
         "2024-08-08T13:13:01.947+0000"
        ],
        [
         2020,
         "Abu Dhabi Grand Prix",
         "2020-12-13T13:10:00.000+0000",
         "Abu Dhabi",
         "Charles Leclerc",
         16,
         "Monegasque",
         "Ferrari",
         12,
         24,
         "\\N",
         0.0,
         13,
         "2024-08-08T13:13:01.947+0000"
        ],
        [
         2020,
         "Abu Dhabi Grand Prix",
         "2020-12-13T13:10:00.000+0000",
         "Abu Dhabi",
         "Kimi Räikkönen",
         7,
         "Finnish",
         "Alfa Romeo",
         15,
         53,
         "\\N",
         0.0,
         12,
         "2024-08-08T13:13:01.947+0000"
        ],
        [
         2020,
         "Abu Dhabi Grand Prix",
         "2020-12-13T13:10:00.000+0000",
         "Abu Dhabi",
         "Daniil Kvyat",
         26,
         "Russian",
         "AlphaTauri",
         7,
         47,
         "\\N",
         0.0,
         11,
         "2024-08-08T13:13:01.947+0000"
        ]
       ],
       "datasetInfos": [],
       "dbfsResultPath": null,
       "isJsonSchema": true,
       "metadata": {},
       "overflow": false,
       "plotOptions": {
        "customPlotOptions": {},
        "displayType": "table",
        "pivotAggregation": null,
        "pivotColumns": null,
        "xColumns": null,
        "yColumns": null
       },
       "removedWidgets": [],
       "schema": [
        {
         "metadata": "{}",
         "name": "race_year",
         "type": "\"integer\""
        },
        {
         "metadata": "{}",
         "name": "race_name",
         "type": "\"string\""
        },
        {
         "metadata": "{}",
         "name": "race_date",
         "type": "\"timestamp\""
        },
        {
         "metadata": "{}",
         "name": "circuit_location",
         "type": "\"string\""
        },
        {
         "metadata": "{}",
         "name": "driver_name",
         "type": "\"string\""
        },
        {
         "metadata": "{}",
         "name": "driver_number",
         "type": "\"integer\""
        },
        {
         "metadata": "{}",
         "name": "driver_nationality",
         "type": "\"string\""
        },
        {
         "metadata": "{}",
         "name": "team",
         "type": "\"string\""
        },
        {
         "metadata": "{}",
         "name": "grid",
         "type": "\"integer\""
        },
        {
         "metadata": "{}",
         "name": "fastest_lap",
         "type": "\"integer\""
        },
        {
         "metadata": "{}",
         "name": "race_time",
         "type": "\"string\""
        },
        {
         "metadata": "{}",
         "name": "points",
         "type": "\"float\""
        },
        {
         "metadata": "{}",
         "name": "position",
         "type": "\"integer\""
        },
        {
         "metadata": "{}",
         "name": "created_date",
         "type": "\"timestamp\""
        }
       ],
       "type": "table"
      }
     },
     "output_type": "display_data"
    }
   ],
   "source": [
    "display(final_df.filter('race_year == 2020 and race_name == \"Abu Dhabi Grand Prix\" ').orderBy(final_df.points.desc()))"
   ]
  },
  {
   "cell_type": "code",
   "execution_count": 0,
   "metadata": {
    "application/vnd.databricks.v1+cell": {
     "cellMetadata": {
      "byteLimit": 2048000,
      "rowLimit": 10000
     },
     "inputWidgets": {},
     "nuid": "37fa367d-9f0d-43c8-a268-9e17ab804b2f",
     "showTitle": false,
     "title": ""
    }
   },
   "outputs": [],
   "source": [
    "final_df.write.mode(\"overwrite\").parquet(f\"{presentation_folder_path}/race_results\")"
   ]
  }
 ],
 "metadata": {
  "application/vnd.databricks.v1+notebook": {
   "dashboards": [],
   "environmentMetadata": null,
   "language": "python",
   "notebookMetadata": {
    "mostRecentlyExecutedCommandWithImplicitDF": {
     "commandId": 104887665586013,
     "dataframes": [
      "_sqldf"
     ]
    },
    "pythonIndentUnit": 4
   },
   "notebookName": "1.race_results",
   "widgets": {
    "p_file_date": {
     "currentValue": "2021-03-21",
     "nuid": "9459d46b-16e5-4fd1-98ba-1ac139c1a866",
     "typedWidgetInfo": null,
     "widgetInfo": {
      "widgetType": "text",
      "defaultValue": "2021-03-21",
      "label": null,
      "name": "p_file_date",
      "options": {
       "widgetType": "text",
       "autoCreated": null,
       "validationRegex": null
      }
     }
    }
   }
  }
 },
 "nbformat": 4,
 "nbformat_minor": 0
}
